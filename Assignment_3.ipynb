{
 "cells": [
  {
   "cell_type": "code",
   "execution_count": null,
   "id": "8205c1a4-2014-48ca-8adb-e9ed3ad74f6f",
   "metadata": {},
   "outputs": [],
   "source": [
    "\"\"\" \n",
    "1. Why are functions advantageous to have in your programs?\n",
    "\n",
    "Functions reduce the need for duplicate code.\n",
    "This makes programs shorter, easier to read, and easier to update.\n",
    "we can avoid rewriting same logic/code again and again in a program.\n",
    "\n",
    "\"\"\"\n"
   ]
  },
  {
   "cell_type": "code",
   "execution_count": null,
   "id": "d0b03593-91b6-4c18-88e5-46e9bd1d8b73",
   "metadata": {},
   "outputs": [],
   "source": [
    "\"\"\"\n",
    "2. When does the code in a function run: when it is specified or when it is called?\n",
    "\n",
    "When it is called\n",
    "\n",
    "\"\"\""
   ]
  },
  {
   "cell_type": "code",
   "execution_count": null,
   "id": "d80bbe62-c8ff-43a8-adbe-fbf8f220565d",
   "metadata": {},
   "outputs": [],
   "source": [
    "\"\"\"\n",
    "\n",
    "3. What statement creates a function?\n",
    "\n",
    "def function_name():\n",
    "\n",
    "\"\"\""
   ]
  },
  {
   "cell_type": "code",
   "execution_count": null,
   "id": "5fe77a7e-dccb-4e3b-b270-15aa28a9cb92",
   "metadata": {},
   "outputs": [],
   "source": [
    "\"\"\"\n",
    "\n",
    "4. What is the difference between a function and a function call?\n",
    "\n",
    "A function is a piece of code which has some task to do it.\n",
    "EX: def test1():\n",
    "        return 10\n",
    "A function call means calling that function.\n",
    "EX: test1()\n",
    "\n",
    "\"\"\""
   ]
  },
  {
   "cell_type": "code",
   "execution_count": null,
   "id": "74fdfd63-c4cc-4acc-8b91-d824a58d2db6",
   "metadata": {},
   "outputs": [],
   "source": [
    "\"\"\"\n",
    "5. How many global scopes are there in a Python program? How many local scopes?\n",
    "\n",
    "There's only one global scope per program execution in python. \n",
    "\n",
    "\"\"\""
   ]
  },
  {
   "cell_type": "code",
   "execution_count": null,
   "id": "6d038af5-1644-46bf-aedd-65101f34f524",
   "metadata": {},
   "outputs": [],
   "source": [
    "\"\"\"\n",
    "6. What happens to variables in a local scope when the function call returns?\n",
    "\n",
    "The variables in a local scope are destroyed when the fuction call returns.\n",
    "\n",
    "\"\"\""
   ]
  },
  {
   "cell_type": "code",
   "execution_count": null,
   "id": "91bd4984-6a85-4d22-8ba8-b197eb7e7db0",
   "metadata": {},
   "outputs": [],
   "source": [
    "\"\"\"\n",
    "\n",
    "7. What is the concept of a return value? Is it possible to have a return value in an expression?\n",
    "\n",
    "A return is a value(any data type) that a function returns to the calling sfunction when it completes its task.\n",
    "A Python function will always have a return value.\n",
    "\n",
    "\"\"\"\n"
   ]
  },
  {
   "cell_type": "code",
   "execution_count": null,
   "id": "2cc35ff3-5183-49d4-b565-644d553d7486",
   "metadata": {},
   "outputs": [],
   "source": [
    "\"\"\"\n",
    "\n",
    "8. If a function does not have a return statement, what is the return value of a call to that function?\n",
    "\n",
    "None\n",
    "\n",
    "\"\"\""
   ]
  },
  {
   "cell_type": "code",
   "execution_count": null,
   "id": "abc86384-75cf-466f-a99a-67a7a0e5e751",
   "metadata": {},
   "outputs": [],
   "source": [
    "\"\"\"\n",
    "\n",
    "9. How do you make a function variable refer to the global variable?\n",
    "\n",
    "By using a global keyword inside function.\n",
    "\n",
    "\"\"\""
   ]
  },
  {
   "cell_type": "code",
   "execution_count": null,
   "id": "39e9a8b8-02e2-433b-9253-81c19317c97d",
   "metadata": {},
   "outputs": [],
   "source": [
    "\"\"\"\n",
    "\n",
    "10. What is the data type of None?\n",
    "\n",
    "None is a data type of its own (NoneType).\n",
    "\n",
    "\"\"\""
   ]
  },
  {
   "cell_type": "code",
   "execution_count": null,
   "id": "7eaf8c1d-4661-4bea-9cdb-ffbd2834c1b2",
   "metadata": {},
   "outputs": [],
   "source": [
    "\"\"\"\n",
    "\n",
    "11. What does the sentence import areallyourpetsnamederic do?\n",
    "\n",
    "That import statement imports a module named areallyourpetsnamederic. It imports all its built in fuctions.\n",
    "\n",
    "\"\"\"\n"
   ]
  },
  {
   "cell_type": "code",
   "execution_count": null,
   "id": "420794e8-36c6-4647-abb8-b5bca2b79c12",
   "metadata": {},
   "outputs": [],
   "source": [
    "\"\"\"\n",
    "\n",
    "12. If you had a bacon() feature in a spam module, what would you call it after importing spam?\n",
    "\n",
    "import spam as sp\n",
    "sp.bacon()\n",
    "\n",
    "\n",
    "\"\"\""
   ]
  },
  {
   "cell_type": "code",
   "execution_count": null,
   "id": "c1bc5c74-4fbd-4323-8380-2b2967aab487",
   "metadata": {},
   "outputs": [],
   "source": [
    "\"\"\"\n",
    "\n",
    "13. What can you do to save a programme from crashing if it encounters an error?\n",
    "\n",
    "We can use try/except blocks to handle those errors.\n",
    "\n",
    "\"\"\""
   ]
  },
  {
   "cell_type": "code",
   "execution_count": null,
   "id": "22c90298-73f3-4f5b-9d51-312a06a64510",
   "metadata": {},
   "outputs": [],
   "source": [
    "\"\"\"\n",
    "\n",
    "What is the purpose of the try clause? What is the purpose of the except clause?\n",
    "\n",
    "The try block lets you test a block of code for errors.\n",
    "The except block lets you handle the error.\n",
    "\n",
    "\"\"\""
   ]
  }
 ],
 "metadata": {
  "kernelspec": {
   "display_name": "Python 3 (ipykernel)",
   "language": "python",
   "name": "python3"
  },
  "language_info": {
   "codemirror_mode": {
    "name": "ipython",
    "version": 3
   },
   "file_extension": ".py",
   "mimetype": "text/x-python",
   "name": "python",
   "nbconvert_exporter": "python",
   "pygments_lexer": "ipython3",
   "version": "3.10.6"
  }
 },
 "nbformat": 4,
 "nbformat_minor": 5
}
