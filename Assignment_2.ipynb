{
 "cells": [
  {
   "cell_type": "code",
   "execution_count": null,
   "id": "a6e405cd-2b8a-44f0-ae4a-d9e58b525231",
   "metadata": {},
   "outputs": [],
   "source": [
    "# 1.What are the two values of the Boolean data type? How do you write them?\n",
    "\n",
    "# Two values of boolean data type are True and False.\n",
    "# bool1 = True and bool2 = False"
   ]
  },
  {
   "cell_type": "code",
   "execution_count": null,
   "id": "88daf610-cab2-4fe8-b02d-9df0b03bdb98",
   "metadata": {},
   "outputs": [],
   "source": [
    "# 2.What are the three different types of Boolean operators?\n",
    "\n",
    "# AND, OR and NOT."
   ]
  },
  {
   "cell_type": "code",
   "execution_count": null,
   "id": "1d9c982b-d012-4eba-8c3c-4f5559dfa296",
   "metadata": {},
   "outputs": [],
   "source": [
    "# 3. Make a list of each Boolean operator & truth tables (i.e. every possible combination of Boolean\n",
    "# values for the operator and what it evaluate ).\n",
    "\n",
    "#     Condition 1(X)  Condition 2(Y)       NOT X           X AND Y          X OR Y\n",
    "#     false           false                true            false            false\n",
    "#     fasle           true                 true            false            true\n",
    "#     true            false                true            false            true\n",
    "#     true            true                 false           true             true\n"
   ]
  },
  {
   "cell_type": "code",
   "execution_count": null,
   "id": "ccc2d7c2-4609-4221-9e17-05c04d6cca90",
   "metadata": {},
   "outputs": [],
   "source": [
    "# 4. What are the values of the following expressions?\n",
    "\n",
    "# (5 > 4) and (3 == 5)\n",
    "# false\n",
    "\n",
    "# not (5 > 4)\n",
    "# false\n",
    "\n",
    "# (5 > 4) or (3 == 5)\n",
    "# true\n",
    "\n",
    "# not ((5 > 4) or (3 == 5))\n",
    "# false\n",
    "\n",
    "# (True and True) and (True == False)\n",
    "# false\n",
    "\n",
    "# (not False) or (not True)\n",
    "# true\n"
   ]
  },
  {
   "cell_type": "code",
   "execution_count": null,
   "id": "748e871f-8977-4407-83e7-07bf6fa64cd2",
   "metadata": {},
   "outputs": [],
   "source": [
    "# 5. What are the six comparison operators?\n",
    "\n",
    "# less than ( < ), less than or equal to ( <= ), greater than ( > ), \n",
    "# greater than or equal to ( >= ), equal to ( == ), and not equal to ( != )."
   ]
  },
  {
   "cell_type": "code",
   "execution_count": null,
   "id": "f31021d1-f106-4751-84ee-2ea7d5de8cf3",
   "metadata": {},
   "outputs": [],
   "source": [
    "# 6. How do you tell the difference between the equal to and assignment operators?\n",
    "# Describe a condition and when you would use one.\n",
    "\n",
    "#  = (equal to) is an Assignment Operator it is used to assign the value of variable or expression whereas\n",
    "#  == is an Equal to Operator and it is a relation operator used for comparison (to compare value of both left and right side operands).\n",
    "#  When i wanted to assign values to any varaible i use = operator.\n",
    "#  EX: a,b = 10,10\n",
    "#  If i wanted to compare both value of the variable then i use ==\n",
    "#  if(a==b)"
   ]
  },
  {
   "cell_type": "code",
   "execution_count": null,
   "id": "1ac9412f-5bb0-417a-8748-811add10d4bb",
   "metadata": {},
   "outputs": [],
   "source": [
    "# 7. Identify the three blocks in this code:\n",
    "\n",
    "# spam = 0\n",
    "# if spam == 10:\n",
    "# print('eggs')\n",
    "# if spam >5:\n",
    "# print('bacon')\n",
    "# else:\n",
    "# print('ham')\n",
    "# print('spam')\n",
    "# print('spam')\n",
    "\n",
    "\n",
    "# First block of code\n",
    "# spam = 0\n",
    "\n",
    "# second block of code\n",
    "# if spam == 10:\n",
    "# print('eggs')\n",
    "# if spam >5:\n",
    "# print('bacon')\n",
    "# else:\n",
    "# print('ham')\n",
    "# print('spam')\n",
    "# print('spam')\n",
    "\n",
    "# third block of code\n",
    "# if spam >5:\n",
    "# print('bacon')\n",
    "# else:\n",
    "# print('ham')\n"
   ]
  },
  {
   "cell_type": "code",
   "execution_count": null,
   "id": "489f4e9a-62d2-4f97-925e-fdb500e49359",
   "metadata": {},
   "outputs": [],
   "source": [
    "# 8. Write code that prints Hello if 1 is stored in spam, prints Howdy if 2 is stored in spam, and prints\n",
    "# Greetings! if anything else is stored in spam.\n",
    "\n",
    "# spam = int(input(\"Enter the value of spam : \"))\n",
    "# if(spam == 1):\n",
    "#    print(\"Hello\")\n",
    "# elif(spam == 2):\n",
    "#    print(\"Howdy\")\n",
    "# else:\n",
    "#    print(\"Greetings\")"
   ]
  },
  {
   "cell_type": "code",
   "execution_count": null,
   "id": "71ad9c5c-63cd-4baa-8aec-062522768f1f",
   "metadata": {},
   "outputs": [],
   "source": [
    "# 9.If your programme is stuck in an endless loop, what keys you’ll press?\n",
    "\n",
    "# CTRL + C "
   ]
  },
  {
   "cell_type": "code",
   "execution_count": null,
   "id": "f981ed92-502b-4a3c-b981-a0f3a65e49eb",
   "metadata": {},
   "outputs": [],
   "source": [
    "# 10. How can you tell the difference between break and continue?\n",
    "\n",
    "#  break\n",
    "#  the control exits from the loop and it is used to stop the execution of the loop at a specific condition.\n",
    "\n",
    "#  continue\n",
    "#  the control remains within the loop and It is used to skip a particular iteration of the loop."
   ]
  },
  {
   "cell_type": "code",
   "execution_count": null,
   "id": "2903cbc2-cec7-49d3-8658-3e0622227bb3",
   "metadata": {},
   "outputs": [],
   "source": [
    "# 11. In a for loop, what is the difference between range(10), range(0, 10), and range(0, 10, 1)?\n",
    "\n",
    "# The range() function returns a sequence of numbers, in a given range.\n",
    "# range(10) It iterates items 10 times\n",
    "# Ex: for i in range(10):\n",
    "#   print(i)\n",
    "# 0,1,2,3,4,5,6,7,8,9\n",
    "\n",
    "#  range(0,10) It iterates 10 times starting from 0\n",
    "# Ex: for i in range(0,10):\n",
    "#     print(i)\n",
    "# 0,1,2,3,4,5,6,7,8,9\n",
    "\n",
    "# range(0,10,1) It iterates 10 times starting from 0 by skipping 1 index\n",
    "# Ex: for i in range(0,10):\n",
    "#     print(i)\n",
    "# 0,1,2,3,4,5,6,7,8,9"
   ]
  },
  {
   "cell_type": "code",
   "execution_count": null,
   "id": "ddd03b82-1b20-4ce0-83d2-6df36eb3bbed",
   "metadata": {},
   "outputs": [],
   "source": [
    "# 12. Write a short program that prints the numbers 1 to 10 using a for loop. Then write an equivalent\n",
    "#     program that prints the numbers 1 to 10 using a while loop.\n",
    "\n",
    "# Using for loop\n",
    "# for i in range(11):\n",
    "#    print(i)\n",
    "\n",
    "# Using while loop\n",
    "# i = 0\n",
    "# while i<=10:\n",
    "#    print(i)\n",
    "#    i = i+1"
   ]
  },
  {
   "cell_type": "code",
   "execution_count": null,
   "id": "8611b54d-5804-45da-95be-dcf6098b18af",
   "metadata": {},
   "outputs": [],
   "source": [
    "# 13. If you had a function named bacon() inside a module named spam, how would you call it after importing spam?\n",
    "\n",
    "# import spam\n",
    "# func_name = \"bacon\"\n",
    "# func = getattr(spam, func_name)\n",
    "\n"
   ]
  }
 ],
 "metadata": {
  "kernelspec": {
   "display_name": "Python 3 (ipykernel)",
   "language": "python",
   "name": "python3"
  },
  "language_info": {
   "codemirror_mode": {
    "name": "ipython",
    "version": 3
   },
   "file_extension": ".py",
   "mimetype": "text/x-python",
   "name": "python",
   "nbconvert_exporter": "python",
   "pygments_lexer": "ipython3",
   "version": "3.10.6"
  }
 },
 "nbformat": 4,
 "nbformat_minor": 5
}
