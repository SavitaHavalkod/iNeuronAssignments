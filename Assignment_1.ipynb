{
 "cells": [
  {
   "cell_type": "code",
   "execution_count": 3,
   "id": "92c737a9-4cdf-448c-b350-e6ea70e72326",
   "metadata": {},
   "outputs": [
    {
     "data": {
      "text/plain": [
       "'\\n1. In the below elements which of them are values or an expression? eg:- values can be\\n integer or string and expressions will be mathematical operators.\\n'"
      ]
     },
     "execution_count": 3,
     "metadata": {},
     "output_type": "execute_result"
    }
   ],
   "source": [
    "\"\"\"\n",
    "1. In the below elements which of them are values or an expression? eg:- values can be\n",
    " integer or string and expressions will be mathematical operators.\n",
    "\"\"\"\n",
    "\n",
    "# Values ('hello',-87.8,6)\n",
    "# Expressions (*,-,/,+)\n"
   ]
  },
  {
   "cell_type": "code",
   "execution_count": null,
   "id": "4424fa0f-68d6-4e57-9cd9-98a9561e8b21",
   "metadata": {},
   "outputs": [],
   "source": [
    "# 2. What is the difference between string and variable?\n",
    "\n",
    "#  String is data type which is used to store values (in terms of characters)\n",
    "#  Variables are the symbols that used to store any kind of data in a program"
   ]
  },
  {
   "cell_type": "code",
   "execution_count": 4,
   "id": "3bc37bda-6654-49cc-81bc-6e2d2bd4ca66",
   "metadata": {},
   "outputs": [],
   "source": [
    "# 3. Describe three different data types.\n",
    "\n",
    "# 1. int -> It contains positive or negative whole numbers (without fractions or decimals)\n",
    "#    EX: x = 10, y = -20\n",
    "# 2. float -> It is a real number with a floating-point representation. It is specified by a decimal point.\n",
    "#    EX: z = 9.87\n",
    "# 3. bool -> Booleans represent one of two values: True or False.\n",
    "#    EX: res = True, val = False"
   ]
  },
  {
   "cell_type": "code",
   "execution_count": null,
   "id": "3a637e6e-32ec-4634-a449-a57d7b35eab4",
   "metadata": {},
   "outputs": [],
   "source": [
    "# 4. What is an expression made up of? What do all expressions do?\n",
    "\n",
    "# An expression is made up of operators, constants and variables.\n",
    "# The expression produces some value or result after being interpreted by the Python interpreter.\n",
    "# EX: x,y = 10,20\n",
    "#     res = x+y (res is a variable to store expression value, x and y are constants, + is an operator)\n"
   ]
  },
  {
   "cell_type": "code",
   "execution_count": null,
   "id": "e9fce7c0-7d45-4617-9b82-d7feb2fb6e70",
   "metadata": {},
   "outputs": [],
   "source": [
    "# 5. This assignment statements, like spam = 10. What is the difference between an\n",
    "#    expression and a statement?\n",
    "\n",
    "# A statement in Python is used for creating variables or for displaying values.\n",
    "# EX: spam = 10 here spam is a variable which holds integer value of 10\n",
    "# The expression in Python produces some value or result after being interpreted by the Python interpreter."
   ]
  },
  {
   "cell_type": "code",
   "execution_count": null,
   "id": "925bdde3-8b36-478a-bf5d-91d37625caff",
   "metadata": {},
   "outputs": [],
   "source": [
    "# 6. After running the following code, what does the variable bacon contain?\n",
    "#    bacon = 22\n",
    "#    bacon + 1\n",
    "\n",
    "#    The variable bacon contains 22 , beacuase in the second statement we have incremented the bacon value by 1 \n",
    "#   but not assigned the result to the bacon varaible."
   ]
  },
  {
   "cell_type": "code",
   "execution_count": null,
   "id": "5064f8fa-e94e-47b6-abf1-9c6c83d89192",
   "metadata": {},
   "outputs": [],
   "source": [
    "# 7. What should the values of the following two terms be?\n",
    "#    'spam' + 'spamspam'\n",
    "#    'spamspamspam'\n",
    "#    'spam' * 3\n",
    "#    'spamspamspam'"
   ]
  },
  {
   "cell_type": "code",
   "execution_count": null,
   "id": "b1b965ae-8b8e-4a91-8d29-3c094e6571d2",
   "metadata": {},
   "outputs": [],
   "source": [
    "# 8. Why is eggs a valid variable name while 100 is invalid?\n",
    "\n",
    "# eggs is varaible name which can be used to assign any kind of data type value whereas 100 cannot be used as a\n",
    "# variable because that name itself holds a integer data type value thats why it is a invalid."
   ]
  },
  {
   "cell_type": "code",
   "execution_count": null,
   "id": "7c6ee6eb-8e31-4d20-bb13-3dcc413759f4",
   "metadata": {},
   "outputs": [],
   "source": [
    "# 9. What three functions can be used to get the integer, floating-point number, or string\n",
    "#   version of a value?\n",
    "\n",
    "#   int(), float(), str() are the three functions."
   ]
  },
  {
   "cell_type": "code",
   "execution_count": null,
   "id": "5327b0f2-e04a-4058-bfd4-eb65791ead40",
   "metadata": {},
   "outputs": [],
   "source": [
    "# 10. Why does this expression cause an error? How can you fix it?\n",
    "# 'I have eaten' + 99 + 'burritos'\n",
    "\n",
    "# gives error beacuse concatination can happen only with similar data type like str to str , int to int \n",
    "# and float to float. \n",
    "# To fix this error convert the integer data type 99 to string.\n",
    "# 'I have eaten ' + str(99) + ' burritos'"
   ]
  }
 ],
 "metadata": {
  "kernelspec": {
   "display_name": "Python 3 (ipykernel)",
   "language": "python",
   "name": "python3"
  },
  "language_info": {
   "codemirror_mode": {
    "name": "ipython",
    "version": 3
   },
   "file_extension": ".py",
   "mimetype": "text/x-python",
   "name": "python",
   "nbconvert_exporter": "python",
   "pygments_lexer": "ipython3",
   "version": "3.10.6"
  }
 },
 "nbformat": 4,
 "nbformat_minor": 5
}
