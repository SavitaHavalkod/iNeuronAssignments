{
 "cells": [
  {
   "cell_type": "code",
   "execution_count": null,
   "id": "89a05080-74a1-4a65-b718-d09d229ca6a4",
   "metadata": {},
   "outputs": [],
   "source": [
    "\"\"\"\n",
    "\n",
    "1. What exactly is []?\n",
    "\n",
    "Index brackets [] are used to define list, allowing you to declare a list and its contents in your program.\n",
    "Index brackets are also used to write expressions that evaluate to a single item within a list, or a single character in a string\n",
    "\n",
    "\"\"\""
   ]
  },
  {
   "cell_type": "code",
   "execution_count": null,
   "id": "34f937d4-c5df-4c3a-9faa-e666df98406b",
   "metadata": {},
   "outputs": [],
   "source": [
    "\"\"\"\n",
    "\n",
    "2. In a list of values stored in a variable called spam, how would you assign the value 'hello' as the\n",
    "third value? (Assume [2, 4, 6, 8, 10] are in spam.)\n",
    "\n",
    "spam = [2,4,6,8,10]\n",
    "spam[2] = \"hello\"\n",
    "print(spam)\n",
    "\n",
    "[2, 4, 'hello', 8, 10]\n",
    "\n",
    "\"\"\""
   ]
  },
  {
   "cell_type": "code",
   "execution_count": null,
   "id": "014fafa8-80bf-48d0-b078-27ccab7bb215",
   "metadata": {},
   "outputs": [],
   "source": [
    "\"\"\"\n",
    "Let's pretend the spam includes the list ['a','b','c','d'] for the next three queries.\n",
    "3. What is the value of spam[int(int('3' * 2) / 11)]?\n",
    "\n",
    "spam[int(int(33)/11)]\n",
    "spam[int(3)]\n",
    "'d'\n",
    "\n",
    "\"\"\""
   ]
  },
  {
   "cell_type": "code",
   "execution_count": null,
   "id": "fece4593-1346-4f36-8271-dd145c49a40a",
   "metadata": {},
   "outputs": [],
   "source": [
    "\"\"\"\n",
    "\n",
    "4. What is the value of spam[-1]?\n",
    "\n",
    "'d'\n",
    "\n",
    "\"\"\""
   ]
  },
  {
   "cell_type": "code",
   "execution_count": null,
   "id": "f96b7350-b2bf-47df-94da-b708a170929c",
   "metadata": {},
   "outputs": [],
   "source": [
    "\"\"\"\n",
    "\n",
    "5. What is the value of spam[:2]?\n",
    "\n",
    "['a','b']\n",
    "\n",
    "\"\"\""
   ]
  },
  {
   "cell_type": "code",
   "execution_count": null,
   "id": "9700b445-6dfb-44c0-93ba-fda1b153b2a3",
   "metadata": {},
   "outputs": [],
   "source": [
    "\"\"\"\n",
    "\n",
    "Lets pretend bacon has the list [3.14, 'cat', 11, 'cat', True] for the next three questions.\n",
    "6. What is the value of bacon.index('cat')?\n",
    "\n",
    "Ans : 1\n",
    "\n",
    "\"\"\""
   ]
  },
  {
   "cell_type": "code",
   "execution_count": null,
   "id": "be57521a-c93e-42c6-8ae1-42b780ed57e9",
   "metadata": {},
   "outputs": [],
   "source": [
    "\"\"\"\n",
    "\n",
    "7. How does bacon.append(99) change the look of the list value in bacon?\n",
    "\n",
    "bacon = [3.14, 'cat', 11, 'cat', True, 99]\n",
    "\n",
    "\"\"\""
   ]
  },
  {
   "cell_type": "code",
   "execution_count": null,
   "id": "9a46583a-665f-4518-8152-ba5a2a3621c5",
   "metadata": {},
   "outputs": [],
   "source": [
    "\"\"\"\n",
    "\n",
    "How does bacon.remove('cat') change the look of the list in bacon?\n",
    "\n",
    "[3.14, 11, 'cat', True]\n",
    "\n",
    "\"\"\"\n"
   ]
  },
  {
   "cell_type": "code",
   "execution_count": null,
   "id": "bdc4c3ba-0cad-4837-b87f-5ed7c0124be5",
   "metadata": {},
   "outputs": [],
   "source": [
    "\"\"\"\n",
    "\n",
    "9. What are the list concatenation and list replication operators?\n",
    "\n",
    "The operator for list concatenation is +, while the operator for replication is *.\n",
    "\n",
    "\"\"\""
   ]
  },
  {
   "cell_type": "code",
   "execution_count": null,
   "id": "484cb8ae-be83-4ec2-849a-882c5c3aa88a",
   "metadata": {},
   "outputs": [],
   "source": [
    "\"\"\"\n",
    "\n",
    "10. What is difference between the list methods append() and insert()?\n",
    "\n",
    "append() method it adds item to the at the end of the list\n",
    "insert() method it adds item to the list at a particular given index\n",
    "\n",
    "\"\"\""
   ]
  },
  {
   "cell_type": "code",
   "execution_count": null,
   "id": "dadb1f65-ce2e-4213-8edc-14f46099725f",
   "metadata": {},
   "outputs": [],
   "source": [
    "\"\"\"\n",
    "\n",
    "11. What are the two methods for removing items from a list?\n",
    "\n",
    "remove() and pop()\n",
    "\n",
    "\"\"\""
   ]
  },
  {
   "cell_type": "code",
   "execution_count": null,
   "id": "6de89475-c9fa-4749-9c4a-31ff3d670195",
   "metadata": {},
   "outputs": [],
   "source": [
    "\"\"\"\n",
    "\n",
    "12. Describe how list values and string values are identical.\n",
    "\n",
    "Both strings and lists have lengths.\n",
    "A string's length is the number of characters in the string and a list's length is the number of items in the list.\n",
    "Each character in a string as well as each item in a list has a position, also called an index.\n",
    "\n",
    "\"\"\""
   ]
  },
  {
   "cell_type": "code",
   "execution_count": null,
   "id": "fe0e3129-c988-47e9-9d43-9f012a04442a",
   "metadata": {},
   "outputs": [],
   "source": [
    "\"\"\"\n",
    "\n",
    "13. What's the difference between tuples and lists?\n",
    "\n",
    "Tuples are immutable(static) whereas lists are mutable(dynamic).\n",
    "The tuple is faster than the list because of static in nature.\n",
    "Lists are denoted by the square brackets but tuples are denoted as parenthesis.\n",
    "\n",
    "\"\"\"\n"
   ]
  },
  {
   "cell_type": "code",
   "execution_count": null,
   "id": "7b8ab5b0-54c8-4a75-b22e-8b92692d944a",
   "metadata": {},
   "outputs": [],
   "source": [
    "\"\"\"\n",
    "\n",
    "14. How do you type a tuple value that only contains the integer 42?\n",
    "\n",
    "my_tuple = tuple()\n",
    "my_tuple = (42)\n",
    "my_tuple\n",
    "\n",
    "\"\"\""
   ]
  },
  {
   "cell_type": "code",
   "execution_count": null,
   "id": "22872b83-75aa-4ed7-8b3c-504d5bb075e8",
   "metadata": {},
   "outputs": [],
   "source": [
    "\"\"\"\n",
    "\n",
    "15. How do you get a list value's tuple form? How do you get a tuple value's list form?\n",
    "\n",
    "To convert a list to a tuple, you can use the tuple() function to pass the full list as an argument, \n",
    "and it will return the tuple data type as an output.\n",
    "EXAMPLE:\n",
    "list1 = list()\n",
    "list1 = [1,2,3,4]\n",
    "list1 = tuple(list1)\n",
    "type(list1)\n",
    "print(list1)\n",
    "\n",
    "\n",
    "To convert a tuple to a list, you can use the list() function to pass the full tuple as an argument, \n",
    "and it will return the list data type as an output.\n",
    "EXAMPLE:\n",
    "my_tyuple = tuple()\n",
    "my_tyuple = (4,3,2,1)\n",
    "my_tyuple = list(my_tyuple)\n",
    "type(my_tyuple)\n",
    "print(my_tyuple)\n",
    "\n",
    "\"\"\""
   ]
  },
  {
   "cell_type": "code",
   "execution_count": null,
   "id": "6f2f8135-208c-492d-9401-6a6776d35457",
   "metadata": {},
   "outputs": [],
   "source": [
    "\"\"\"\n",
    "\n",
    "16. Variables that \"contain\" list values are not necessarily lists themselves. Instead, what do they\n",
    "contain?\n",
    "\n",
    "Variables will contain references to list values rather than list values themselves. \n",
    "But for strings and integer values, variables simply contain the string or integer value. \n",
    "Python uses references whenever variables must store values of mutable data types, such as lists or dictionaries.\n",
    "\n",
    "\"\"\""
   ]
  },
  {
   "cell_type": "code",
   "execution_count": null,
   "id": "9129bbe6-0cd1-479f-b0bc-1ccc4cdda4a8",
   "metadata": {},
   "outputs": [],
   "source": [
    "\"\"\"\n",
    "\n",
    "17. How do you distinguish between copy.copy() and copy.deepcopy()?\n",
    "\n",
    "The copy() returns a shallow copy of the list, and deepcopy() returns a deep copy of the list.\n",
    "copy (shallow copy) doesn't create a copy of nested objects, instead it just copies the references to the nested objects\n",
    "deepcopy (deep copy) copies all the nested objects recursively. a, b, c, d, a1, b1, c1 and d1 are references to objects in memory, which are uniquely identified by their ids.\n",
    "\n",
    "\"\"\""
   ]
  }
 ],
 "metadata": {
  "kernelspec": {
   "display_name": "Python 3 (ipykernel)",
   "language": "python",
   "name": "python3"
  },
  "language_info": {
   "codemirror_mode": {
    "name": "ipython",
    "version": 3
   },
   "file_extension": ".py",
   "mimetype": "text/x-python",
   "name": "python",
   "nbconvert_exporter": "python",
   "pygments_lexer": "ipython3",
   "version": "3.10.6"
  }
 },
 "nbformat": 4,
 "nbformat_minor": 5
}
